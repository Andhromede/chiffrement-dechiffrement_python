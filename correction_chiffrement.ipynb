{
 "cells": [
  {
   "cell_type": "code",
   "execution_count": 28,
   "metadata": {},
   "outputs": [],
   "source": [
    "def chiffrer_cesar(message:str, cle:int):\n",
    "    message_code = \"\"\n",
    "    \n",
    "    for lettre in message:\n",
    "        message_code += chr(ord(lettre) + cle)\n",
    "    \n",
    "    return message_code"
   ]
  },
  {
   "cell_type": "code",
   "execution_count": 29,
   "metadata": {},
   "outputs": [],
   "source": [
    "def dechiffrer_cesar(message_code:str, cle:int):\n",
    "    return chiffrer_cesar(message_code, -cle)"
   ]
  },
  {
   "cell_type": "code",
   "execution_count": 30,
   "metadata": {},
   "outputs": [
    {
     "data": {
      "text/plain": [
       "\"\\x11Ps'ð{hp{'|ul'mvpz3'khuz'|ul'wl{p{l'}pssl'wlyjoðl'z|y'|ul'jvsspul3'|ul'wl{p{l'mpssl'uvttðl'Hspjl5'Hspjl'hpthp{'l\\x7fwsvyly'slz'mvyñ{z'x|p'lu{v|yhplu{'zh'}pssl3'yhthzzhu{'klz'ihplz'zh|}hnlz'l{'lu'vizly}hu{'slz'hupth|\\x7f5'Thpz'|u'qv|y3'hsvyz'x|.lssl'zl'wyvtluhp{'khuz'slz'ivpz3'lssl'zl'wlykp{5\\x11\\x11Lssl'jolyjoh'wlukhu{'klz'ol|ylz'|u'joltpu'kl'yl{v|y3'thpz'lssl'ul'{yv|}h'yplu5'Hsvyz3'lssl'z.hzzp{'z|y'|ul'wplyyl'l{'zl'tp{'ç'wsl|yly5'Zv|khpu3'lssl'lu{lukp{'|u'iy|p{'ð{yhunl'l{'}p{'|ul's|l|y'kl's|tpïyl'klyypïyl'|u'i|pzzvu5\\x11\\x11J|ypl|zl3'Hspjl'z.hwwyvjoh'slu{ltlu{5'Klyypïyl'sl'i|pzzvu3'lssl'{yv|}h'|ul'wvy{l'tpu|zj|sl3'ç'wlpul'hzzl\\x81'nyhukl'wv|y'x|.lssl'w|pzzl'whzzly5'Zhuz'oðzp{ly3'lssl'sh'myhujop{5\\x11\\x11Kl's.h|{yl'jû{ð3'Hspjl'kðjv|}yp{'|u'tvukl'ð{yhunl'l{'tly}lpssl|\\x7f5'Lssl'zl'{yv|}hp{'thpu{luhu{'khuz'sl'wh\\x80z'klz'tly}lpsslz5'Lssl'\\x80'ylujvu{yh'|ul't|s{p{|kl'kl'jyðh{|ylz'mhu{hz{px|lz3'jvttl'|u'joh{'x|p'zv|yphp{'l{'|u'spï}yl'x|p'whyshp{5\\x11\\x11H|'jv|yz'kl'zvu'}v\\x80hnl'khuz'sl'wh\\x80z'klz'tly}lpsslz3'Hspjl'ylujvu{yh'sh'Ylpul'kl'JŚ|y3'x|p'yðnuhp{'z|y'sl'wh\\x80z5'Sh'Ylpul'kl'JŚ|y'ð{hp{'{yïz'tðjohu{l'l{'hpthp{'kvuuly'klz'vykylz'wv|y'x|l'slz'{ñ{lz'klz'nluz'zvplu{'jv|wðlz5'Hspjl'ul'}v|shp{'whz'z|ipy'sl'tñtl'zvy{3'hsvyz'lssl'kðjpkh'kl'{yv|}ly'|u'tv\\x80lu'kl'ylu{yly'jol\\x81'lssl5\\x11\\x11Mpuhsltlu{3'Hspjl'{yv|}h'|ul'h|{yl'wvy{l'x|p'sh'yhtluh'jol\\x81'lssl5'Lssl'zl'yð}lpssh'khuz'sh'mvyñ{3'ç's.lukyvp{'vĀ'lssl'h}hp{'jvttlujð'zvu'}v\\x80hnl5'J.ð{hp{'jvttl'zp'yplu'ul'z.ð{hp{'qhthpz'whzzð3'thpz'Hspjl'zh}hp{'x|l'jl'u.ð{hp{'whz'}yhp5\\x11\\x11Klw|pz'svyz3'Hspjl'ul'jlzzh'qhthpz'kl'wluzly'ç'zvu'pujyv\\x80hisl'h}lu{|yl'h|'wh\\x80z'klz'tly}lpsslz5'L{'iplu'x|l'wlyzvuul'ul'sh'jyĂ{'qhthpz3'lssl'zh}hp{'x|l'j.ð{hp{'yðls'l{'x|.lssl'h}hp{'}ðj|'x|lsx|l'jovzl'kl'}yhptlu{'l\\x7f{yhvykpuhpyl5\\x11'''''''''''''''\""
      ]
     },
     "execution_count": 30,
     "metadata": {},
     "output_type": "execute_result"
    }
   ],
   "source": [
    "import random\n",
    "\n",
    "chiffrer_cesar(\"\"\"\n",
    "Il était une fois, dans une petite ville perchée sur une colline, une petite fille nommée Alice. Alice aimait explorer les forêts qui entouraient sa ville, ramassant des baies sauvages et en observant les animaux. Mais un jour, alors qu'elle se promenait dans les bois, elle se perdit.\n",
    "\n",
    "Elle chercha pendant des heures un chemin de retour, mais elle ne trouva rien. Alors, elle s'assit sur une pierre et se mit à pleurer. Soudain, elle entendit un bruit étrange et vit une lueur de lumière derrière un buisson.\n",
    "\n",
    "Curieuse, Alice s'approcha lentement. Derrière le buisson, elle trouva une porte minuscule, à peine assez grande pour qu'elle puisse passer. Sans hésiter, elle la franchit.\n",
    "\n",
    "De l'autre côté, Alice découvrit un monde étrange et merveilleux. Elle se trouvait maintenant dans le pays des merveilles. Elle y rencontra une multitude de créatures fantastiques, comme un chat qui souriait et un lièvre qui parlait.\n",
    "\n",
    "Au cours de son voyage dans le pays des merveilles, Alice rencontra la Reine de Cœur, qui régnait sur le pays. La Reine de Cœur était très méchante et aimait donner des ordres pour que les têtes des gens soient coupées. Alice ne voulait pas subir le même sort, alors elle décida de trouver un moyen de rentrer chez elle.\n",
    "\n",
    "Finalement, Alice trouva une autre porte qui la ramena chez elle. Elle se réveilla dans la forêt, à l'endroit où elle avait commencé son voyage. C'était comme si rien ne s'était jamais passé, mais Alice savait que ce n'était pas vrai.\n",
    "\n",
    "Depuis lors, Alice ne cessa jamais de penser à son incroyable aventure au pays des merveilles. Et bien que personne ne la crût jamais, elle savait que c'était réel et qu'elle avait vécu quelque chose de vraiment extraordinaire.\n",
    "               \"\"\", random.randint(-20, 80))"
   ]
  },
  {
   "cell_type": "code",
   "execution_count": 31,
   "metadata": {},
   "outputs": [
    {
     "data": {
      "text/plain": [
       "')h\\x8b?Ĉ\\x93\\x80\\x88\\x93?\\x94\\x8d\\x84?\\x85\\x8e\\x88\\x92K?\\x83\\x80\\x8d\\x92?\\x94\\x8d\\x84?\\x8f\\x84\\x93\\x88\\x93\\x84?\\x95\\x88\\x8b\\x8b\\x84?\\x8f\\x84\\x91\\x82\\x87Ĉ\\x84?\\x92\\x94\\x91?\\x94\\x8d\\x84?\\x82\\x8e\\x8b\\x8b\\x88\\x8d\\x84K?\\x94\\x8d\\x84?\\x8f\\x84\\x93\\x88\\x93\\x84?\\x85\\x88\\x8b\\x8b\\x84?\\x8d\\x8e\\x8c\\x8cĈ\\x84?`\\x8b\\x88\\x82\\x84M?`\\x8b\\x88\\x82\\x84?\\x80\\x88\\x8c\\x80\\x88\\x93?\\x84\\x97\\x8f\\x8b\\x8e\\x91\\x84\\x91?\\x8b\\x84\\x92?\\x85\\x8e\\x91ĉ\\x93\\x92?\\x90\\x94\\x88?\\x84\\x8d\\x93\\x8e\\x94\\x91\\x80\\x88\\x84\\x8d\\x93?\\x92\\x80?\\x95\\x88\\x8b\\x8b\\x84K?\\x91\\x80\\x8c\\x80\\x92\\x92\\x80\\x8d\\x93?\\x83\\x84\\x92?\\x81\\x80\\x88\\x84\\x92?\\x92\\x80\\x94\\x95\\x80\\x86\\x84\\x92?\\x84\\x93?\\x84\\x8d?\\x8e\\x81\\x92\\x84\\x91\\x95\\x80\\x8d\\x93?\\x8b\\x84\\x92?\\x80\\x8d\\x88\\x8c\\x80\\x94\\x97M?l\\x80\\x88\\x92?\\x94\\x8d?\\x89\\x8e\\x94\\x91K?\\x80\\x8b\\x8e\\x91\\x92?\\x90\\x94F\\x84\\x8b\\x8b\\x84?\\x92\\x84?\\x8f\\x91\\x8e\\x8c\\x84\\x8d\\x80\\x88\\x93?\\x83\\x80\\x8d\\x92?\\x8b\\x84\\x92?\\x81\\x8e\\x88\\x92K?\\x84\\x8b\\x8b\\x84?\\x92\\x84?\\x8f\\x84\\x91\\x83\\x88\\x93M))d\\x8b\\x8b\\x84?\\x82\\x87\\x84\\x91\\x82\\x87\\x80?\\x8f\\x84\\x8d\\x83\\x80\\x8d\\x93?\\x83\\x84\\x92?\\x87\\x84\\x94\\x91\\x84\\x92?\\x94\\x8d?\\x82\\x87\\x84\\x8c\\x88\\x8d?\\x83\\x84?\\x91\\x84\\x93\\x8e\\x94\\x91K?\\x8c\\x80\\x88\\x92?\\x84\\x8b\\x8b\\x84?\\x8d\\x84?\\x93\\x91\\x8e\\x94\\x95\\x80?\\x91\\x88\\x84\\x8dM?`\\x8b\\x8e\\x91\\x92K?\\x84\\x8b\\x8b\\x84?\\x92F\\x80\\x92\\x92\\x88\\x93?\\x92\\x94\\x91?\\x94\\x8d\\x84?\\x8f\\x88\\x84\\x91\\x91\\x84?\\x84\\x93?\\x92\\x84?\\x8c\\x88\\x93?ÿ?\\x8f\\x8b\\x84\\x94\\x91\\x84\\x91M?r\\x8e\\x94\\x83\\x80\\x88\\x8dK?\\x84\\x8b\\x8b\\x84?\\x84\\x8d\\x93\\x84\\x8d\\x83\\x88\\x93?\\x94\\x8d?\\x81\\x91\\x94\\x88\\x93?Ĉ\\x93\\x91\\x80\\x8d\\x86\\x84?\\x84\\x93?\\x95\\x88\\x93?\\x94\\x8d\\x84?\\x8b\\x94\\x84\\x94\\x91?\\x83\\x84?\\x8b\\x94\\x8c\\x88ć\\x91\\x84?\\x83\\x84\\x91\\x91\\x88ć\\x91\\x84?\\x94\\x8d?\\x81\\x94\\x88\\x92\\x92\\x8e\\x8dM))b\\x94\\x91\\x88\\x84\\x94\\x92\\x84K?`\\x8b\\x88\\x82\\x84?\\x92F\\x80\\x8f\\x8f\\x91\\x8e\\x82\\x87\\x80?\\x8b\\x84\\x8d\\x93\\x84\\x8c\\x84\\x8d\\x93M?c\\x84\\x91\\x91\\x88ć\\x91\\x84?\\x8b\\x84?\\x81\\x94\\x88\\x92\\x92\\x8e\\x8dK?\\x84\\x8b\\x8b\\x84?\\x93\\x91\\x8e\\x94\\x95\\x80?\\x94\\x8d\\x84?\\x8f\\x8e\\x91\\x93\\x84?\\x8c\\x88\\x8d\\x94\\x92\\x82\\x94\\x8b\\x84K?ÿ?\\x8f\\x84\\x88\\x8d\\x84?\\x80\\x92\\x92\\x84\\x99?\\x86\\x91\\x80\\x8d\\x83\\x84?\\x8f\\x8e\\x94\\x91?\\x90\\x94F\\x84\\x8b\\x8b\\x84?\\x8f\\x94\\x88\\x92\\x92\\x84?\\x8f\\x80\\x92\\x92\\x84\\x91M?r\\x80\\x8d\\x92?\\x87Ĉ\\x92\\x88\\x93\\x84\\x91K?\\x84\\x8b\\x8b\\x84?\\x8b\\x80?\\x85\\x91\\x80\\x8d\\x82\\x87\\x88\\x93M))c\\x84?\\x8bF\\x80\\x94\\x93\\x91\\x84?\\x82ē\\x93ĈK?`\\x8b\\x88\\x82\\x84?\\x83Ĉ\\x82\\x8e\\x94\\x95\\x91\\x88\\x93?\\x94\\x8d?\\x8c\\x8e\\x8d\\x83\\x84?Ĉ\\x93\\x91\\x80\\x8d\\x86\\x84?\\x84\\x93?\\x8c\\x84\\x91\\x95\\x84\\x88\\x8b\\x8b\\x84\\x94\\x97M?d\\x8b\\x8b\\x84?\\x92\\x84?\\x93\\x91\\x8e\\x94\\x95\\x80\\x88\\x93?\\x8c\\x80\\x88\\x8d\\x93\\x84\\x8d\\x80\\x8d\\x93?\\x83\\x80\\x8d\\x92?\\x8b\\x84?\\x8f\\x80\\x98\\x92?\\x83\\x84\\x92?\\x8c\\x84\\x91\\x95\\x84\\x88\\x8b\\x8b\\x84\\x92M?d\\x8b\\x8b\\x84?\\x98?\\x91\\x84\\x8d\\x82\\x8e\\x8d\\x93\\x91\\x80?\\x94\\x8d\\x84?\\x8c\\x94\\x8b\\x93\\x88\\x93\\x94\\x83\\x84?\\x83\\x84?\\x82\\x91Ĉ\\x80\\x93\\x94\\x91\\x84\\x92?\\x85\\x80\\x8d\\x93\\x80\\x92\\x93\\x88\\x90\\x94\\x84\\x92K?\\x82\\x8e\\x8c\\x8c\\x84?\\x94\\x8d?\\x82\\x87\\x80\\x93?\\x90\\x94\\x88?\\x92\\x8e\\x94\\x91\\x88\\x80\\x88\\x93?\\x84\\x93?\\x94\\x8d?\\x8b\\x88ć\\x95\\x91\\x84?\\x90\\x94\\x88?\\x8f\\x80\\x91\\x8b\\x80\\x88\\x93M))`\\x94?\\x82\\x8e\\x94\\x91\\x92?\\x83\\x84?\\x92\\x8e\\x8d?\\x95\\x8e\\x98\\x80\\x86\\x84?\\x83\\x80\\x8d\\x92?\\x8b\\x84?\\x8f\\x80\\x98\\x92?\\x83\\x84\\x92?\\x8c\\x84\\x91\\x95\\x84\\x88\\x8b\\x8b\\x84\\x92K?`\\x8b\\x88\\x82\\x84?\\x91\\x84\\x8d\\x82\\x8e\\x8d\\x93\\x91\\x80?\\x8b\\x80?q\\x84\\x88\\x8d\\x84?\\x83\\x84?bŲ\\x94\\x91K?\\x90\\x94\\x88?\\x91Ĉ\\x86\\x8d\\x80\\x88\\x93?\\x92\\x94\\x91?\\x8b\\x84?\\x8f\\x80\\x98\\x92M?k\\x80?q\\x84\\x88\\x8d\\x84?\\x83\\x84?bŲ\\x94\\x91?Ĉ\\x93\\x80\\x88\\x93?\\x93\\x91ć\\x92?\\x8cĈ\\x82\\x87\\x80\\x8d\\x93\\x84?\\x84\\x93?\\x80\\x88\\x8c\\x80\\x88\\x93?\\x83\\x8e\\x8d\\x8d\\x84\\x91?\\x83\\x84\\x92?\\x8e\\x91\\x83\\x91\\x84\\x92?\\x8f\\x8e\\x94\\x91?\\x90\\x94\\x84?\\x8b\\x84\\x92?\\x93ĉ\\x93\\x84\\x92?\\x83\\x84\\x92?\\x86\\x84\\x8d\\x92?\\x92\\x8e\\x88\\x84\\x8d\\x93?\\x82\\x8e\\x94\\x8fĈ\\x84\\x92M?`\\x8b\\x88\\x82\\x84?\\x8d\\x84?\\x95\\x8e\\x94\\x8b\\x80\\x88\\x93?\\x8f\\x80\\x92?\\x92\\x94\\x81\\x88\\x91?\\x8b\\x84?\\x8cĉ\\x8c\\x84?\\x92\\x8e\\x91\\x93K?\\x80\\x8b\\x8e\\x91\\x92?\\x84\\x8b\\x8b\\x84?\\x83Ĉ\\x82\\x88\\x83\\x80?\\x83\\x84?\\x93\\x91\\x8e\\x94\\x95\\x84\\x91?\\x94\\x8d?\\x8c\\x8e\\x98\\x84\\x8d?\\x83\\x84?\\x91\\x84\\x8d\\x93\\x91\\x84\\x91?\\x82\\x87\\x84\\x99?\\x84\\x8b\\x8b\\x84M))e\\x88\\x8d\\x80\\x8b\\x84\\x8c\\x84\\x8d\\x93K?`\\x8b\\x88\\x82\\x84?\\x93\\x91\\x8e\\x94\\x95\\x80?\\x94\\x8d\\x84?\\x80\\x94\\x93\\x91\\x84?\\x8f\\x8e\\x91\\x93\\x84?\\x90\\x94\\x88?\\x8b\\x80?\\x91\\x80\\x8c\\x84\\x8d\\x80?\\x82\\x87\\x84\\x99?\\x84\\x8b\\x8b\\x84M?d\\x8b\\x8b\\x84?\\x92\\x84?\\x91Ĉ\\x95\\x84\\x88\\x8b\\x8b\\x80?\\x83\\x80\\x8d\\x92?\\x8b\\x80?\\x85\\x8e\\x91ĉ\\x93K?ÿ?\\x8bF\\x84\\x8d\\x83\\x91\\x8e\\x88\\x93?\\x8eĘ?\\x84\\x8b\\x8b\\x84?\\x80\\x95\\x80\\x88\\x93?\\x82\\x8e\\x8c\\x8c\\x84\\x8d\\x82Ĉ?\\x92\\x8e\\x8d?\\x95\\x8e\\x98\\x80\\x86\\x84M?bFĈ\\x93\\x80\\x88\\x93?\\x82\\x8e\\x8c\\x8c\\x84?\\x92\\x88?\\x91\\x88\\x84\\x8d?\\x8d\\x84?\\x92FĈ\\x93\\x80\\x88\\x93?\\x89\\x80\\x8c\\x80\\x88\\x92?\\x8f\\x80\\x92\\x92ĈK?\\x8c\\x80\\x88\\x92?`\\x8b\\x88\\x82\\x84?\\x92\\x80\\x95\\x80\\x88\\x93?\\x90\\x94\\x84?\\x82\\x84?\\x8dFĈ\\x93\\x80\\x88\\x93?\\x8f\\x80\\x92?\\x95\\x91\\x80\\x88M))c\\x84\\x8f\\x94\\x88\\x92?\\x8b\\x8e\\x91\\x92K?`\\x8b\\x88\\x82\\x84?\\x8d\\x84?\\x82\\x84\\x92\\x92\\x80?\\x89\\x80\\x8c\\x80\\x88\\x92?\\x83\\x84?\\x8f\\x84\\x8d\\x92\\x84\\x91?ÿ?\\x92\\x8e\\x8d?\\x88\\x8d\\x82\\x91\\x8e\\x98\\x80\\x81\\x8b\\x84?\\x80\\x95\\x84\\x8d\\x93\\x94\\x91\\x84?\\x80\\x94?\\x8f\\x80\\x98\\x92?\\x83\\x84\\x92?\\x8c\\x84\\x91\\x95\\x84\\x88\\x8b\\x8b\\x84\\x92M?d\\x93?\\x81\\x88\\x84\\x8d?\\x90\\x94\\x84?\\x8f\\x84\\x91\\x92\\x8e\\x8d\\x8d\\x84?\\x8d\\x84?\\x8b\\x80?\\x82\\x91Ě\\x93?\\x89\\x80\\x8c\\x80\\x88\\x92K?\\x84\\x8b\\x8b\\x84?\\x92\\x80\\x95\\x80\\x88\\x93?\\x90\\x94\\x84?\\x82FĈ\\x93\\x80\\x88\\x93?\\x91Ĉ\\x84\\x8b?\\x84\\x93?\\x90\\x94F\\x84\\x8b\\x8b\\x84?\\x80\\x95\\x80\\x88\\x93?\\x95Ĉ\\x82\\x94?\\x90\\x94\\x84\\x8b\\x90\\x94\\x84?\\x82\\x87\\x8e\\x92\\x84?\\x83\\x84?\\x95\\x91\\x80\\x88\\x8c\\x84\\x8d\\x93?\\x84\\x97\\x93\\x91\\x80\\x8e\\x91\\x83\\x88\\x8d\\x80\\x88\\x91\\x84M)???????????????'"
      ]
     },
     "execution_count": 31,
     "metadata": {},
     "output_type": "execute_result"
    }
   ],
   "source": [
    "code_a_casser = ')h\\x8b?Ĉ\\x93\\x80\\x88\\x93?\\x94\\x8d\\x84?\\x85\\x8e\\x88\\x92K?\\x83\\x80\\x8d\\x92?\\x94\\x8d\\x84?\\x8f\\x84\\x93\\x88\\x93\\x84?\\x95\\x88\\x8b\\x8b\\x84?\\x8f\\x84\\x91\\x82\\x87Ĉ\\x84?\\x92\\x94\\x91?\\x94\\x8d\\x84?\\x82\\x8e\\x8b\\x8b\\x88\\x8d\\x84K?\\x94\\x8d\\x84?\\x8f\\x84\\x93\\x88\\x93\\x84?\\x85\\x88\\x8b\\x8b\\x84?\\x8d\\x8e\\x8c\\x8cĈ\\x84?`\\x8b\\x88\\x82\\x84M?`\\x8b\\x88\\x82\\x84?\\x80\\x88\\x8c\\x80\\x88\\x93?\\x84\\x97\\x8f\\x8b\\x8e\\x91\\x84\\x91?\\x8b\\x84\\x92?\\x85\\x8e\\x91ĉ\\x93\\x92?\\x90\\x94\\x88?\\x84\\x8d\\x93\\x8e\\x94\\x91\\x80\\x88\\x84\\x8d\\x93?\\x92\\x80?\\x95\\x88\\x8b\\x8b\\x84K?\\x91\\x80\\x8c\\x80\\x92\\x92\\x80\\x8d\\x93?\\x83\\x84\\x92?\\x81\\x80\\x88\\x84\\x92?\\x92\\x80\\x94\\x95\\x80\\x86\\x84\\x92?\\x84\\x93?\\x84\\x8d?\\x8e\\x81\\x92\\x84\\x91\\x95\\x80\\x8d\\x93?\\x8b\\x84\\x92?\\x80\\x8d\\x88\\x8c\\x80\\x94\\x97M?l\\x80\\x88\\x92?\\x94\\x8d?\\x89\\x8e\\x94\\x91K?\\x80\\x8b\\x8e\\x91\\x92?\\x90\\x94F\\x84\\x8b\\x8b\\x84?\\x92\\x84?\\x8f\\x91\\x8e\\x8c\\x84\\x8d\\x80\\x88\\x93?\\x83\\x80\\x8d\\x92?\\x8b\\x84\\x92?\\x81\\x8e\\x88\\x92K?\\x84\\x8b\\x8b\\x84?\\x92\\x84?\\x8f\\x84\\x91\\x83\\x88\\x93M))d\\x8b\\x8b\\x84?\\x82\\x87\\x84\\x91\\x82\\x87\\x80?\\x8f\\x84\\x8d\\x83\\x80\\x8d\\x93?\\x83\\x84\\x92?\\x87\\x84\\x94\\x91\\x84\\x92?\\x94\\x8d?\\x82\\x87\\x84\\x8c\\x88\\x8d?\\x83\\x84?\\x91\\x84\\x93\\x8e\\x94\\x91K?\\x8c\\x80\\x88\\x92?\\x84\\x8b\\x8b\\x84?\\x8d\\x84?\\x93\\x91\\x8e\\x94\\x95\\x80?\\x91\\x88\\x84\\x8dM?`\\x8b\\x8e\\x91\\x92K?\\x84\\x8b\\x8b\\x84?\\x92F\\x80\\x92\\x92\\x88\\x93?\\x92\\x94\\x91?\\x94\\x8d\\x84?\\x8f\\x88\\x84\\x91\\x91\\x84?\\x84\\x93?\\x92\\x84?\\x8c\\x88\\x93?ÿ?\\x8f\\x8b\\x84\\x94\\x91\\x84\\x91M?r\\x8e\\x94\\x83\\x80\\x88\\x8dK?\\x84\\x8b\\x8b\\x84?\\x84\\x8d\\x93\\x84\\x8d\\x83\\x88\\x93?\\x94\\x8d?\\x81\\x91\\x94\\x88\\x93?Ĉ\\x93\\x91\\x80\\x8d\\x86\\x84?\\x84\\x93?\\x95\\x88\\x93?\\x94\\x8d\\x84?\\x8b\\x94\\x84\\x94\\x91?\\x83\\x84?\\x8b\\x94\\x8c\\x88ć\\x91\\x84?\\x83\\x84\\x91\\x91\\x88ć\\x91\\x84?\\x94\\x8d?\\x81\\x94\\x88\\x92\\x92\\x8e\\x8dM))b\\x94\\x91\\x88\\x84\\x94\\x92\\x84K?`\\x8b\\x88\\x82\\x84?\\x92F\\x80\\x8f\\x8f\\x91\\x8e\\x82\\x87\\x80?\\x8b\\x84\\x8d\\x93\\x84\\x8c\\x84\\x8d\\x93M?c\\x84\\x91\\x91\\x88ć\\x91\\x84?\\x8b\\x84?\\x81\\x94\\x88\\x92\\x92\\x8e\\x8dK?\\x84\\x8b\\x8b\\x84?\\x93\\x91\\x8e\\x94\\x95\\x80?\\x94\\x8d\\x84?\\x8f\\x8e\\x91\\x93\\x84?\\x8c\\x88\\x8d\\x94\\x92\\x82\\x94\\x8b\\x84K?ÿ?\\x8f\\x84\\x88\\x8d\\x84?\\x80\\x92\\x92\\x84\\x99?\\x86\\x91\\x80\\x8d\\x83\\x84?\\x8f\\x8e\\x94\\x91?\\x90\\x94F\\x84\\x8b\\x8b\\x84?\\x8f\\x94\\x88\\x92\\x92\\x84?\\x8f\\x80\\x92\\x92\\x84\\x91M?r\\x80\\x8d\\x92?\\x87Ĉ\\x92\\x88\\x93\\x84\\x91K?\\x84\\x8b\\x8b\\x84?\\x8b\\x80?\\x85\\x91\\x80\\x8d\\x82\\x87\\x88\\x93M))c\\x84?\\x8bF\\x80\\x94\\x93\\x91\\x84?\\x82ē\\x93ĈK?`\\x8b\\x88\\x82\\x84?\\x83Ĉ\\x82\\x8e\\x94\\x95\\x91\\x88\\x93?\\x94\\x8d?\\x8c\\x8e\\x8d\\x83\\x84?Ĉ\\x93\\x91\\x80\\x8d\\x86\\x84?\\x84\\x93?\\x8c\\x84\\x91\\x95\\x84\\x88\\x8b\\x8b\\x84\\x94\\x97M?d\\x8b\\x8b\\x84?\\x92\\x84?\\x93\\x91\\x8e\\x94\\x95\\x80\\x88\\x93?\\x8c\\x80\\x88\\x8d\\x93\\x84\\x8d\\x80\\x8d\\x93?\\x83\\x80\\x8d\\x92?\\x8b\\x84?\\x8f\\x80\\x98\\x92?\\x83\\x84\\x92?\\x8c\\x84\\x91\\x95\\x84\\x88\\x8b\\x8b\\x84\\x92M?d\\x8b\\x8b\\x84?\\x98?\\x91\\x84\\x8d\\x82\\x8e\\x8d\\x93\\x91\\x80?\\x94\\x8d\\x84?\\x8c\\x94\\x8b\\x93\\x88\\x93\\x94\\x83\\x84?\\x83\\x84?\\x82\\x91Ĉ\\x80\\x93\\x94\\x91\\x84\\x92?\\x85\\x80\\x8d\\x93\\x80\\x92\\x93\\x88\\x90\\x94\\x84\\x92K?\\x82\\x8e\\x8c\\x8c\\x84?\\x94\\x8d?\\x82\\x87\\x80\\x93?\\x90\\x94\\x88?\\x92\\x8e\\x94\\x91\\x88\\x80\\x88\\x93?\\x84\\x93?\\x94\\x8d?\\x8b\\x88ć\\x95\\x91\\x84?\\x90\\x94\\x88?\\x8f\\x80\\x91\\x8b\\x80\\x88\\x93M))`\\x94?\\x82\\x8e\\x94\\x91\\x92?\\x83\\x84?\\x92\\x8e\\x8d?\\x95\\x8e\\x98\\x80\\x86\\x84?\\x83\\x80\\x8d\\x92?\\x8b\\x84?\\x8f\\x80\\x98\\x92?\\x83\\x84\\x92?\\x8c\\x84\\x91\\x95\\x84\\x88\\x8b\\x8b\\x84\\x92K?`\\x8b\\x88\\x82\\x84?\\x91\\x84\\x8d\\x82\\x8e\\x8d\\x93\\x91\\x80?\\x8b\\x80?q\\x84\\x88\\x8d\\x84?\\x83\\x84?bŲ\\x94\\x91K?\\x90\\x94\\x88?\\x91Ĉ\\x86\\x8d\\x80\\x88\\x93?\\x92\\x94\\x91?\\x8b\\x84?\\x8f\\x80\\x98\\x92M?k\\x80?q\\x84\\x88\\x8d\\x84?\\x83\\x84?bŲ\\x94\\x91?Ĉ\\x93\\x80\\x88\\x93?\\x93\\x91ć\\x92?\\x8cĈ\\x82\\x87\\x80\\x8d\\x93\\x84?\\x84\\x93?\\x80\\x88\\x8c\\x80\\x88\\x93?\\x83\\x8e\\x8d\\x8d\\x84\\x91?\\x83\\x84\\x92?\\x8e\\x91\\x83\\x91\\x84\\x92?\\x8f\\x8e\\x94\\x91?\\x90\\x94\\x84?\\x8b\\x84\\x92?\\x93ĉ\\x93\\x84\\x92?\\x83\\x84\\x92?\\x86\\x84\\x8d\\x92?\\x92\\x8e\\x88\\x84\\x8d\\x93?\\x82\\x8e\\x94\\x8fĈ\\x84\\x92M?`\\x8b\\x88\\x82\\x84?\\x8d\\x84?\\x95\\x8e\\x94\\x8b\\x80\\x88\\x93?\\x8f\\x80\\x92?\\x92\\x94\\x81\\x88\\x91?\\x8b\\x84?\\x8cĉ\\x8c\\x84?\\x92\\x8e\\x91\\x93K?\\x80\\x8b\\x8e\\x91\\x92?\\x84\\x8b\\x8b\\x84?\\x83Ĉ\\x82\\x88\\x83\\x80?\\x83\\x84?\\x93\\x91\\x8e\\x94\\x95\\x84\\x91?\\x94\\x8d?\\x8c\\x8e\\x98\\x84\\x8d?\\x83\\x84?\\x91\\x84\\x8d\\x93\\x91\\x84\\x91?\\x82\\x87\\x84\\x99?\\x84\\x8b\\x8b\\x84M))e\\x88\\x8d\\x80\\x8b\\x84\\x8c\\x84\\x8d\\x93K?`\\x8b\\x88\\x82\\x84?\\x93\\x91\\x8e\\x94\\x95\\x80?\\x94\\x8d\\x84?\\x80\\x94\\x93\\x91\\x84?\\x8f\\x8e\\x91\\x93\\x84?\\x90\\x94\\x88?\\x8b\\x80?\\x91\\x80\\x8c\\x84\\x8d\\x80?\\x82\\x87\\x84\\x99?\\x84\\x8b\\x8b\\x84M?d\\x8b\\x8b\\x84?\\x92\\x84?\\x91Ĉ\\x95\\x84\\x88\\x8b\\x8b\\x80?\\x83\\x80\\x8d\\x92?\\x8b\\x80?\\x85\\x8e\\x91ĉ\\x93K?ÿ?\\x8bF\\x84\\x8d\\x83\\x91\\x8e\\x88\\x93?\\x8eĘ?\\x84\\x8b\\x8b\\x84?\\x80\\x95\\x80\\x88\\x93?\\x82\\x8e\\x8c\\x8c\\x84\\x8d\\x82Ĉ?\\x92\\x8e\\x8d?\\x95\\x8e\\x98\\x80\\x86\\x84M?bFĈ\\x93\\x80\\x88\\x93?\\x82\\x8e\\x8c\\x8c\\x84?\\x92\\x88?\\x91\\x88\\x84\\x8d?\\x8d\\x84?\\x92FĈ\\x93\\x80\\x88\\x93?\\x89\\x80\\x8c\\x80\\x88\\x92?\\x8f\\x80\\x92\\x92ĈK?\\x8c\\x80\\x88\\x92?`\\x8b\\x88\\x82\\x84?\\x92\\x80\\x95\\x80\\x88\\x93?\\x90\\x94\\x84?\\x82\\x84?\\x8dFĈ\\x93\\x80\\x88\\x93?\\x8f\\x80\\x92?\\x95\\x91\\x80\\x88M))c\\x84\\x8f\\x94\\x88\\x92?\\x8b\\x8e\\x91\\x92K?`\\x8b\\x88\\x82\\x84?\\x8d\\x84?\\x82\\x84\\x92\\x92\\x80?\\x89\\x80\\x8c\\x80\\x88\\x92?\\x83\\x84?\\x8f\\x84\\x8d\\x92\\x84\\x91?ÿ?\\x92\\x8e\\x8d?\\x88\\x8d\\x82\\x91\\x8e\\x98\\x80\\x81\\x8b\\x84?\\x80\\x95\\x84\\x8d\\x93\\x94\\x91\\x84?\\x80\\x94?\\x8f\\x80\\x98\\x92?\\x83\\x84\\x92?\\x8c\\x84\\x91\\x95\\x84\\x88\\x8b\\x8b\\x84\\x92M?d\\x93?\\x81\\x88\\x84\\x8d?\\x90\\x94\\x84?\\x8f\\x84\\x91\\x92\\x8e\\x8d\\x8d\\x84?\\x8d\\x84?\\x8b\\x80?\\x82\\x91Ě\\x93?\\x89\\x80\\x8c\\x80\\x88\\x92K?\\x84\\x8b\\x8b\\x84?\\x92\\x80\\x95\\x80\\x88\\x93?\\x90\\x94\\x84?\\x82FĈ\\x93\\x80\\x88\\x93?\\x91Ĉ\\x84\\x8b?\\x84\\x93?\\x90\\x94F\\x84\\x8b\\x8b\\x84?\\x80\\x95\\x80\\x88\\x93?\\x95Ĉ\\x82\\x94?\\x90\\x94\\x84\\x8b\\x90\\x94\\x84?\\x82\\x87\\x8e\\x92\\x84?\\x83\\x84?\\x95\\x91\\x80\\x88\\x8c\\x84\\x8d\\x93?\\x84\\x97\\x93\\x91\\x80\\x8e\\x91\\x83\\x88\\x8d\\x80\\x88\\x91\\x84M)???????????????'\n",
    "code_a_casser"
   ]
  },
  {
   "cell_type": "code",
   "execution_count": 32,
   "metadata": {},
   "outputs": [],
   "source": [
    "def calculer_frequence_apparition_char(message:str) -> dict:\n",
    "    \"\"\"Fonction qui renvoie un dictionnaire contenant la fréquence d'apparition de chaque caractère\n",
    "\n",
    "    Args:\n",
    "        message (str): Message à casser\n",
    "\n",
    "    Returns:\n",
    "        dict: Un dictionnaire ayant pour clé un caractère et pour valeur sa fréquence d'apparition\n",
    "    \"\"\"\n",
    "    resultat = {}\n",
    "    for lettre in message:\n",
    "        if resultat.get(lettre) is not None:\n",
    "            resultat[lettre] += 1\n",
    "        else: \n",
    "            resultat[lettre] = 1\n",
    "    return resultat"
   ]
  },
  {
   "cell_type": "code",
   "execution_count": 33,
   "metadata": {},
   "outputs": [],
   "source": [
    "def trouver_max_dico(dico:dict) -> str:\n",
    "    \"\"\"Fonction qui renvoie la clé ayant la plus grande valeur\n",
    "\n",
    "    Args:\n",
    "        dico (dict): Le dictionnaire à traiter\n",
    "\n",
    "    Returns:\n",
    "        str: la clé associée à la plus grande valeur\n",
    "    \"\"\"\n",
    "    return max(dico, key=lambda key:dico[key])"
   ]
  },
  {
   "cell_type": "code",
   "execution_count": 34,
   "metadata": {},
   "outputs": [],
   "source": [
    "cle_supposée = ord(trouver_max_dico(calculer_frequence_apparition_char(code_a_casser))) - ord(\" \")"
   ]
  },
  {
   "cell_type": "code",
   "execution_count": 35,
   "metadata": {},
   "outputs": [
    {
     "data": {
      "text/plain": [
       "\"\\nIl était une fois, dans une petite ville perchée sur une colline, une petite fille nommée Alice. Alice aimait explorer les forêts qui entouraient sa ville, ramassant des baies sauvages et en observant les animaux. Mais un jour, alors qu'elle se promenait dans les bois, elle se perdit.\\n\\nElle chercha pendant des heures un chemin de retour, mais elle ne trouva rien. Alors, elle s'assit sur une pierre et se mit à pleurer. Soudain, elle entendit un bruit étrange et vit une lueur de lumière derrière un buisson.\\n\\nCurieuse, Alice s'approcha lentement. Derrière le buisson, elle trouva une porte minuscule, à peine assez grande pour qu'elle puisse passer. Sans hésiter, elle la franchit.\\n\\nDe l'autre côté, Alice découvrit un monde étrange et merveilleux. Elle se trouvait maintenant dans le pays des merveilles. Elle y rencontra une multitude de créatures fantastiques, comme un chat qui souriait et un lièvre qui parlait.\\n\\nAu cours de son voyage dans le pays des merveilles, Alice rencontra la Reine de Cœur, qui régnait sur le pays. La Reine de Cœur était très méchante et aimait donner des ordres pour que les têtes des gens soient coupées. Alice ne voulait pas subir le même sort, alors elle décida de trouver un moyen de rentrer chez elle.\\n\\nFinalement, Alice trouva une autre porte qui la ramena chez elle. Elle se réveilla dans la forêt, à l'endroit où elle avait commencé son voyage. C'était comme si rien ne s'était jamais passé, mais Alice savait que ce n'était pas vrai.\\n\\nDepuis lors, Alice ne cessa jamais de penser à son incroyable aventure au pays des merveilles. Et bien que personne ne la crût jamais, elle savait que c'était réel et qu'elle avait vécu quelque chose de vraiment extraordinaire.\\n               \""
      ]
     },
     "execution_count": 35,
     "metadata": {},
     "output_type": "execute_result"
    }
   ],
   "source": [
    "dechiffrer_cesar(code_a_casser, cle_supposée)"
   ]
  },
  {
   "cell_type": "code",
   "execution_count": 36,
   "metadata": {},
   "outputs": [],
   "source": [
    "def chiffrer_vigenere(message:str, cle:tuple) -> str:\n",
    "    message_code = \"\"\n",
    "    index_cle = 0\n",
    "    for lettre in message:\n",
    "        message_code += chr(ord(lettre) + cle[index_cle])\n",
    "        index_cle = (index_cle + 1) % len(cle)\n",
    "    return message_code"
   ]
  },
  {
   "cell_type": "code",
   "execution_count": 37,
   "metadata": {},
   "outputs": [],
   "source": [
    "def dechiffrer_vigenere(message_code:str, cle:tuple) -> str:\n",
    "    return chiffrer_vigenere(message_code, [-elt for elt in cle])"
   ]
  },
  {
   "cell_type": "code",
   "execution_count": 38,
   "metadata": {},
   "outputs": [],
   "source": [
    "code_a_casser = chiffrer_vigenere(\"\"\"\n",
    "Il était une fois, dans une petite ville perchée sur une colline, une petite fille nommée Alice. Alice aimait explorer les forêts qui entouraient sa ville, ramassant des baies sauvages et en observant les animaux. Mais un jour, alors qu'elle se promenait dans les bois, elle se perdit.\n",
    "\n",
    "Elle chercha pendant des heures un chemin de retour, mais elle ne trouva rien. Alors, elle s'assit sur une pierre et se mit à pleurer. Soudain, elle entendit un bruit étrange et vit une lueur de lumière derrière un buisson.\n",
    "\n",
    "Curieuse, Alice s'approcha lentement. Derrière le buisson, elle trouva une porte minuscule, à peine assez grande pour qu'elle puisse passer. Sans hésiter, elle la franchit.\n",
    "\n",
    "De l'autre côté, Alice découvrit un monde étrange et merveilleux. Elle se trouvait maintenant dans le pays des merveilles. Elle y rencontra une multitude de créatures fantastiques, comme un chat qui souriait et un lièvre qui parlait.\n",
    "\n",
    "Au cours de son voyage dans le pays des merveilles, Alice rencontra la Reine de Cœur, qui régnait sur le pays. La Reine de Cœur était très méchante et aimait donner des ordres pour que les têtes des gens soient coupées. Alice ne voulait pas subir le même sort, alors elle décida de trouver un moyen de rentrer chez elle.\n",
    "\n",
    "Finalement, Alice trouva une autre porte qui la ramena chez elle. Elle se réveilla dans la forêt, à l'endroit où elle avait commencé son voyage. C'était comme si rien ne s'était jamais passé, mais Alice savait que ce n'était pas vrai.\n",
    "\n",
    "Depuis lors, Alice ne cessa jamais de penser à son incroyable aventure au pays des merveilles. Et bien que personne ne la crût jamais, elle savait que c'était réel et qu'elle avait vécu quelque chose de vraiment extraordinaire.\n",
    "               \"\"\", [9, 0, -3])"
   ]
  },
  {
   "cell_type": "code",
   "execution_count": 39,
   "metadata": {},
   "outputs": [
    {
     "data": {
      "text/plain": [
       "\"\\x13Ii)éqjiq)ukn cxip5 ajnp)ukn mntf}e\\x1d\\x7fiiue\\x1dyeolhæn p~r\\x1d~nb)clulfwe))ukn mntf}e\\x1doiiue\\x1dwojvéb)Aircb7 >ui`n ^rm^rt\\x1dnxmuoonr\\x1duep)fl{êq| n~i\\x1dnnqxuojibwt\\x1d|a\\x1d\\x7fiiue))r^vap|ak} ans\\x1dkafns\\x1d|ar\\x7fadns\\x1dnt\\x1dnn\\x1dxbpnrsjnq)lb| ^wijjuu7 Jjip)uk)jl~r))aixrp)qr0eiue\\x1d|e\\x1dyrlvekjiq)d^ws\\x1duep)blrs))eiue\\x1d|e\\x1dyeomiq7\\n\\x07Nlin `qeolh^)pbwd^wt\\x1dmep)hb~rb| rw `qejrn\\x1dme\\x1d{eqxuo5 jjip)eiue\\x1dwe\\x1d}rl~v^)rfnn+)Aixrp5 bulb)s$jsprt\\x1d|uo)ukn mreo{e\\x1dnt\\x1d|e\\x1dviq)à\\x1dylb~rb{.\\x1d\\\\ormafw,\\x1dnlin bwtbwdf} rw _{uf} æ}r^wgb)eq)vf} rwe\\x1duub~r\\x1dme\\x1duujrèon anrorèon rw _~ip|ok7\\n\\x07Luorer|e))Aircb)s$jpm{o`qa\\x1duek}ejnnq7 Anrorèon in _~ip|ok5 bulb)toxusj rwe\\x1dyoo}e\\x1dvik~s`~lb5 Ý)pbrnb)ap|ew)gojnan mxuo)qr0eiue\\x1dyuf|sb)p^|sb{.\\x1d\\\\ak| eòsf}eo5 bulb)l^)fojn`qiq7\\n\\x07Me\\x1du'^~ton `ýtæ5 >ui`n aòcl~vort\\x1d~n\\x1dvokme\\x1dòtojndn b} jnrsniiuer\\x81.\\x1dNlin pn q{or\\x7faf} jjik}ekjnq)d^ws\\x1due\\x1dyav| ans\\x1dveo\\x7fefulb|.\\x1dNlin v)rbwclwtoj rwe\\x1dvui}iq~db)db)coòaq~rb| cjnqjsqrqrns))clvmb)uk)cejt\\x1dzuf)sl~rfjiq)eq)uk)lfñvon n~i\\x1dyaouaf}.\\x07\\x13Ar)cl~rp)db)slw sxy^pe\\x1dmak| in mjyp)db| jnrsniiuep5 >ui`n onn`xnq{a\\x1dua\\x1d[efwe\\x1dme\\x1dLœr{,\\x1dzuf)ræpn^rt\\x1d|uo)lb)p^\\x82s+)L^)Rbrnb)db)CŐ~r\\x1dòt^rt\\x1d}rå| jòcejnqn b} ^rm^rt\\x1dmokweo)db| l{dons\\x1dyor{ n~e\\x1duep)tç}ep)db| dnnp)slrek} `xumòep7 >ui`n kn sxuijiq)p^| p~bf{ in jómb)sl{t))aixrp)eiue\\x1dmé`rd^)db)toxusnr\\x1d~n\\x1dvovnn\\x1dme\\x1d{ek}rb{ `qew)eiue+\\x13\\nCrn^uejnnq5 >ui`n q{or\\x7fa\\x1d~nb)ar}rb)pl{tb)qrr ij ojmbwa\\x1dlhb\\x83 bulb7 Bulb)sb)ræ\\x7feful^)d^ws\\x1dua\\x1doooót))à\\x1du'bwdoxiq)oö)eiue\\x1djv^rt\\x1dlojveklé\\x1d|ok)vl\\x82adn.\\x1dL'æ}af} `xmjn pr orek)nb)s$òt^rt\\x1dsajjip)p^|sæ5 jjip)Aircb)s^\\x7faf} n~e\\x1dle\\x1dw'æ}af} mjs\\x1d\\x7fr^r.\\x07\\x13Dbyuf| ixrp5 >ui`n kn `nspj gjm^rs\\x1dme\\x1dyek|eo)à\\x1d|ok)iklrl\\x82a_ue\\x1djvbwtr{e\\x1dju\\x1dyav| ans\\x1dveo\\x7fefulb|.\\x1dNt\\x1dkibw n~e\\x1dyeo|okwe\\x1dwe\\x1dua\\x1dlrø} gjm^rs))eiue\\x1d|asjiq)qrn `0éqjiq)rænl\\x1dnt\\x1dzu$nlin ^\\x7faf} sòcr)qrnln~e\\x1dlhl|e\\x1dme\\x1d\\x7fr^rmbwt\\x1dnxq{al{dfwaf{e+\\x13 \\x1d) \\x1d) \\x1d) \\x1d) \\x1d)\""
      ]
     },
     "execution_count": 39,
     "metadata": {},
     "output_type": "execute_result"
    }
   ],
   "source": [
    "code_a_casser"
   ]
  },
  {
   "cell_type": "code",
   "execution_count": 40,
   "metadata": {},
   "outputs": [
    {
     "name": "stdout",
     "output_type": "stream",
     "text": [
      "\u0016Ll,ìtmlt,xnq#f{ls8#dmqs,xnq#pqwih llxh |hrokéq#su qe,foxoizh,,xnq#pqwih rllxh zrmyìe,Dlufe:#Axlcq#aupauw q{pxrrqu xhs,io~ít#ql qqt{xrmlezw d llxh,,uaydsdn#dqv ndiqv dudgqv qw qq {esquvmqt,oe#azlmmxx:#Mmls,xn,mou,,dl{us,tu3hlxh h |uoyhnmlt,gazv xhs,eouv,,hlxh h |hrplt:\n",
      "Qolq#cthroka,sezgazw phs,keue#uz#cthmuq ph ~ht{xr8#mmls,hlxh zh uoya,uiqq.,Dl{us8#exoe,v'mvsuw xr,xnq#puhr~h qw h ylt,ã |oeue~1 _rupdiz/ qolq#ezwezgi#uz#b~xi#éuazje,ht,yi#uzh xxeu ph xxmuërq#dquruërq#uz#blsrn:\n",
      "Oxruhuh,,Dlufe,v'msp~rctd xhnhmqqt:#Dquruërq#lq#blsrn8#exoe,wr{xvm#uzh |rrh ylnvcoe8#à,seuqe,dshz,jrmqdq#p{xr,tu3hlxh |xive,save~1 _dn#hõvihr8#exoe,oa,irmqctlt:\n",
      "Ph x*awrq#cĀwé8#Axlcq#dõfoyruw q yrnph õwrmqgq#e#mquvqllxhu1 Qolq#sq#t~rudi#mmlnhnmqt,gazv xh |dy#dqv yhrhixoe1 Qolq#y,uezfozwrm#uzh yxlltge,ge,frõdtue#fmqtmvtutuqv,,foype,xn,fhmw }xi,vouimlt,ht,xn,oiôyrq#ql |drxdi1\n",
      "Fuqaxhmqqt8#Axlcq#t~rud qe,duue,so~we,tuu#lm#rmpezd oke#exoe:#Exoe,ve,uéhixoa,gazv xd rrröw,,ã x*ezgr{lt,rù,hlxh myauw ormyhnoì rn,yodgq1 O*édi#c{pmq#su#ruhn,qe,v'õwauw vdmmls,savé8#mmls,Dlufe,vadi#qh oh z*édi#pmv uau1mlt,sa#sei~#lq#möpe,vo~w,,dl{us,hlxh pìcuga,ge,wr{xvqu q yryqq ph ~hnue~#cthz,hlxh.\u0016\n",
      "\u0016Ge|xi#l{us8#Axlcq#nq#cqvsm#jmpauv ph |hnhr,ã rn,lnouodbxh myezwu~h mx |dy#dqv yhrhixoe1 Qw nlez#qh |hrrnzh zh xd ouû#jmpauv,,hlxh dvmlt,tuq#c3ìtmlt,uéqo qw }x'qolq#adi#võfu,tuqoqh okoh ph uaupezw q{t~do~gizdi~h.\u0016# ,# ,# ,# ,# ,\n",
      "[-3]\n",
      "\n",
      "Il était une fois, dans une petite ville perchée sur une colline, une petite fille nommée Alice. Alice aimait explorer les forêts qui entouraient sa ville, ramassant des baies sauvages et en observant les animaux. Mais un jour, alors qu'elle se promenait dans les bois, elle se perdit.\n",
      "\n",
      "Elle chercha pendant des heures un chemin de retour, mais elle ne trouva rien. Alors, elle s'assit sur une pierre et se mit à pleurer. Soudain, elle entendit un bruit étrange et vit une lueur de lumière derrière un buisson.\n",
      "\n",
      "Curieuse, Alice s'approcha lentement. Derrière le buisson, elle trouva une porte minuscule, à peine assez grande pour qu'elle puisse passer. Sans hésiter, elle la franchit.\n",
      "\n",
      "De l'autre côté, Alice découvrit un monde étrange et merveilleux. Elle se trouvait maintenant dans le pays des merveilles. Elle y rencontra une multitude de créatures fantastiques, comme un chat qui souriait et un lièvre qui parlait.\n",
      "\n",
      "Au cours de son voyage dans le pays des merveilles, Alice rencontra la Reine de Cœur, qui régnait sur le pays. La Reine de Cœur était très méchante et aimait donner des ordres pour que les têtes des gens soient coupées. Alice ne voulait pas subir le même sort, alors elle décida de trouver un moyen de rentrer chez elle.\n",
      "\n",
      "Finalement, Alice trouva une autre porte qui la ramena chez elle. Elle se réveilla dans la forêt, à l'endroit où elle avait commencé son voyage. C'était comme si rien ne s'était jamais passé, mais Alice savait que ce n'était pas vrai.\n",
      "\n",
      "Depuis lors, Alice ne cessa jamais de penser à son incroyable aventure au pays des merveilles. Et bien que personne ne la crût jamais, elle savait que c'était réel et qu'elle avait vécu quelque chose de vraiment extraordinaire.\n",
      "               \n",
      "[9, 0, -3]\n"
     ]
    }
   ],
   "source": [
    "for taille_cle in range(1, len(code_a_casser)//4):\n",
    "    liste_str = []\n",
    "    liste_dico = []\n",
    "    cle = []\n",
    "    \n",
    "    for i in range(taille_cle):\n",
    "        liste_str.append(code_a_casser[i::taille_cle])\n",
    "    for elt in liste_str:\n",
    "        liste_dico.append(calculer_frequence_apparition_char(elt))\n",
    "    for elt in liste_dico:\n",
    "        cle.append(ord(trouver_max_dico(elt)) - ord(\" \"))\n",
    "    \n",
    "    try:\n",
    "        print(dechiffrer_vigenere(code_a_casser, tuple(cle)))\n",
    "        print(cle)\n",
    "    except:\n",
    "        pass"
   ]
  },
  {
   "cell_type": "code",
   "execution_count": null,
   "metadata": {},
   "outputs": [],
   "source": []
  }
 ],
 "metadata": {
  "kernelspec": {
   "display_name": "Python 3",
   "language": "python",
   "name": "python3"
  },
  "language_info": {
   "codemirror_mode": {
    "name": "ipython",
    "version": 3
   },
   "file_extension": ".py",
   "mimetype": "text/x-python",
   "name": "python",
   "nbconvert_exporter": "python",
   "pygments_lexer": "ipython3",
   "version": "3.10.6"
  },
  "orig_nbformat": 4
 },
 "nbformat": 4,
 "nbformat_minor": 2
}
